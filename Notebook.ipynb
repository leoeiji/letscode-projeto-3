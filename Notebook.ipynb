{
 "cells": [
  {
   "cell_type": "markdown",
   "metadata": {},
   "source": [
    "# Projeto 3 - World Happiness Report\n",
    "\n",
    "## Objetivos\n",
    "\n",
    "- Fazer uma análise exploratória dos dados dos anos 2015 à 2019 para responder as perguntas:\n",
    "\n",
    "    1. Quais foram as alterações ano a ano no ranking dos primeiros 10 países?\n",
    "\n",
    "    2. Considerando a média de todas as variáveis, quais foram as 3 variáveis que mais mudaram ano a ano (desconsiderando score e ranking)?\n",
    "\n",
    "    3. Quais foram os top 3 países que mais tiveram mudança positiva e negativa de GDP?\n",
    "\n",
    "    4. Qual foi o país que mais subiu no ranking no período inteiro analisado?\n",
    "\n",
    "    5. Houve países que saíram ou entraram no index?\n",
    "    \n",
    "    6. Quais foram os 3 países que mais tiveram mudança (positiva e negativa) na expectativa de vida?\n",
    "\n",
    "    7. Cite mais 2 conclusões que julgar pertinente sobre o assunto.\n",
    "\n",
    "\n",
    "## Variáveis\n",
    "\n",
    "- Happiness Rank - Posição no ranking dos países mais felizes;\n",
    "\n",
    "- Happiness Score - Somatória das variáveis;\n",
    "\n",
    "- Economy (GDP per Capita) - Gross Domestic Product (o valor de todos os bens e serviços que um país produz no ano);\n",
    "\n",
    "- Family - Sim ou não (Pergunta: Se estivesse em problemas, você teria amigos ou família com os quais poderia contar?);\n",
    "\n",
    "- Health (Life Expectancy) - Calculado pela WHO (World Health Organization);\n",
    "\n",
    "- Freedom - Sim ou Não;\n",
    "\n",
    "- Generosity - Sim ou Não (Pergunta: Você doou dinheiro no último ano?);\n",
    "\n",
    "- Trust (Government Corruption) - Sim ou Não - Duas perguntas (Há corrupção no governo? Há corrupção nas empresas?).\n"
   ]
  },
  {
   "cell_type": "markdown",
   "metadata": {},
   "source": [
    "Fonte dos dados: Kaggle (https://www.kaggle.com/datasets/unsdsn/world-happiness?select=2015.csv)"
   ]
  },
  {
   "cell_type": "code",
   "execution_count": 261,
   "metadata": {},
   "outputs": [],
   "source": [
    "import pandas as pd\n",
    "import numpy as np\n",
    "import matplotlib.pyplot as plt"
   ]
  },
  {
   "cell_type": "code",
   "execution_count": 262,
   "metadata": {},
   "outputs": [],
   "source": [
    "# Começamos importando as variáveis desejadas do World Happiness Report \n",
    "# (anos 2015 a 2019) em um dicionário, no qual a chave representa o ano \n",
    "# respectivo daquele report, facilitando assim a chamada do DataFrame \n",
    "# desejado.\n",
    "dfs = {\n",
    "    \"2015\": pd.read_csv(\"dados/2015.csv\", index_col=\"Country\", usecols=[\"Country\", \"Happiness Rank\", \"Happiness Score\", \"Economy (GDP per Capita)\", \"Family\", \"Health (Life Expectancy)\", \"Freedom\", \"Generosity\", \"Trust (Government Corruption)\"]),\n",
    "    \"2016\": pd.read_csv(\"dados/2016.csv\", index_col=\"Country\", usecols=[\"Country\", \"Happiness Rank\", \"Happiness Score\", \"Economy (GDP per Capita)\", \"Family\", \"Health (Life Expectancy)\", \"Freedom\", \"Generosity\", \"Trust (Government Corruption)\"]),\n",
    "    \"2017\": pd.read_csv(\"dados/2017.csv\", index_col=\"Country\", usecols=[\"Country\", \"Happiness.Rank\", \"Happiness.Score\", \"Economy..GDP.per.Capita.\", \"Family\", \"Health..Life.Expectancy.\", \"Freedom\", \"Generosity\", \"Trust..Government.Corruption.\"]),\n",
    "    \"2018\": pd.read_csv(\"dados/2018.csv\", index_col=\"Country or region\", usecols=[\"Country or region\",\"Overall rank\",\"Score\",\"GDP per capita\",\"Social support\",\"Healthy life expectancy\",\"Freedom to make life choices\",\"Generosity\",\"Perceptions of corruption\"]),\n",
    "    \"2019\": pd.read_csv(\"dados/2019.csv\", index_col=\"Country or region\", usecols=[\"Country or region\",\"Overall rank\", 'Score', 'GDP per capita', 'Social support', 'Healthy life expectancy', 'Freedom to make life choices', 'Generosity', 'Perceptions of corruption', 'Generosity'])\n",
    "}"
   ]
  },
  {
   "cell_type": "code",
   "execution_count": 263,
   "metadata": {},
   "outputs": [],
   "source": [
    "# Foi necessária a mudança do nome de algumas linhas para uniformizar \n",
    "# os dados entre os DFs dos diferentes anos. Posteriormente, os nomes \n",
    "# das colunas também foram uniformizados.\n",
    "\n",
    "renames = {\n",
    "    'Northern Cyprus': 'North Cyprus',\n",
    "    'Hong Kong': 'Hong Kong S.A.R., China',\n",
    "    'Somaliland region': 'Somaliland Region',\n",
    "    'Taiwan': 'Taiwan Province of China',\n",
    "    'Trinidad and Tobago': 'Trinidad & Tobago',\n",
    "    'North Macedonia': 'Macedonia',\n",
    "}\n",
    "for year in range(2015, 2020):\n",
    "    dfs[str(year)] = dfs[str(year)].rename(index=renames)"
   ]
  },
  {
   "cell_type": "code",
   "execution_count": 264,
   "metadata": {},
   "outputs": [],
   "source": [
    "# Uniformizamos os nomes das colunas\n",
    "dfs[\"2015\"].columns = ['Happiness Rank', 'Happiness Score', 'Economy (GDP per Capita)', 'Family', 'Health (Life Expectancy)', 'Freedom', 'Trust (Government Corruption)', 'Generosity']\n",
    "dfs[\"2016\"].columns = ['Happiness Rank', 'Happiness Score', 'Economy (GDP per Capita)', 'Family', 'Health (Life Expectancy)', 'Freedom', 'Trust (Government Corruption)', 'Generosity']\n",
    "dfs[\"2017\"].columns = ['Happiness Rank', 'Happiness Score', 'Economy (GDP per Capita)', 'Family', 'Health (Life Expectancy)', 'Freedom', 'Trust (Government Corruption)', 'Generosity']\n",
    "dfs[\"2018\"].columns = ['Happiness Rank', 'Happiness Score', 'Economy (GDP per Capita)', 'Family', 'Health (Life Expectancy)', 'Freedom', 'Generosity', 'Trust (Government Corruption)']\n",
    "dfs[\"2019\"].columns = ['Happiness Rank', 'Happiness Score', 'Economy (GDP per Capita)', 'Family', 'Health (Life Expectancy)', 'Freedom', 'Generosity', 'Trust (Government Corruption)']"
   ]
  },
  {
   "cell_type": "code",
   "execution_count": 265,
   "metadata": {},
   "outputs": [
    {
     "name": "stdout",
     "output_type": "stream",
     "text": [
      "<class 'pandas.core.frame.DataFrame'>\n",
      "Index: 158 entries, Switzerland to Togo\n",
      "Data columns (total 8 columns):\n",
      " #   Column                         Non-Null Count  Dtype  \n",
      "---  ------                         --------------  -----  \n",
      " 0   Happiness Rank                 158 non-null    int64  \n",
      " 1   Happiness Score                158 non-null    float64\n",
      " 2   Economy (GDP per Capita)       158 non-null    float64\n",
      " 3   Family                         158 non-null    float64\n",
      " 4   Health (Life Expectancy)       158 non-null    float64\n",
      " 5   Freedom                        158 non-null    float64\n",
      " 6   Trust (Government Corruption)  158 non-null    float64\n",
      " 7   Generosity                     158 non-null    float64\n",
      "dtypes: float64(7), int64(1)\n",
      "memory usage: 11.1+ KB\n"
     ]
    }
   ],
   "source": [
    "dfs[\"2015\"].info()"
   ]
  },
  {
   "cell_type": "code",
   "execution_count": 266,
   "metadata": {},
   "outputs": [
    {
     "name": "stdout",
     "output_type": "stream",
     "text": [
      "<class 'pandas.core.frame.DataFrame'>\n",
      "Index: 157 entries, Denmark to Burundi\n",
      "Data columns (total 8 columns):\n",
      " #   Column                         Non-Null Count  Dtype  \n",
      "---  ------                         --------------  -----  \n",
      " 0   Happiness Rank                 157 non-null    int64  \n",
      " 1   Happiness Score                157 non-null    float64\n",
      " 2   Economy (GDP per Capita)       157 non-null    float64\n",
      " 3   Family                         157 non-null    float64\n",
      " 4   Health (Life Expectancy)       157 non-null    float64\n",
      " 5   Freedom                        157 non-null    float64\n",
      " 6   Trust (Government Corruption)  157 non-null    float64\n",
      " 7   Generosity                     157 non-null    float64\n",
      "dtypes: float64(7), int64(1)\n",
      "memory usage: 11.0+ KB\n"
     ]
    }
   ],
   "source": [
    "dfs[\"2016\"].info()"
   ]
  },
  {
   "cell_type": "code",
   "execution_count": 267,
   "metadata": {},
   "outputs": [
    {
     "name": "stdout",
     "output_type": "stream",
     "text": [
      "<class 'pandas.core.frame.DataFrame'>\n",
      "Index: 155 entries, Norway to Central African Republic\n",
      "Data columns (total 8 columns):\n",
      " #   Column                         Non-Null Count  Dtype  \n",
      "---  ------                         --------------  -----  \n",
      " 0   Happiness Rank                 155 non-null    int64  \n",
      " 1   Happiness Score                155 non-null    float64\n",
      " 2   Economy (GDP per Capita)       155 non-null    float64\n",
      " 3   Family                         155 non-null    float64\n",
      " 4   Health (Life Expectancy)       155 non-null    float64\n",
      " 5   Freedom                        155 non-null    float64\n",
      " 6   Trust (Government Corruption)  155 non-null    float64\n",
      " 7   Generosity                     155 non-null    float64\n",
      "dtypes: float64(7), int64(1)\n",
      "memory usage: 10.9+ KB\n"
     ]
    }
   ],
   "source": [
    "dfs[\"2017\"].info()"
   ]
  },
  {
   "cell_type": "code",
   "execution_count": 268,
   "metadata": {},
   "outputs": [
    {
     "name": "stdout",
     "output_type": "stream",
     "text": [
      "<class 'pandas.core.frame.DataFrame'>\n",
      "Index: 156 entries, Finland to Burundi\n",
      "Data columns (total 8 columns):\n",
      " #   Column                         Non-Null Count  Dtype  \n",
      "---  ------                         --------------  -----  \n",
      " 0   Happiness Rank                 156 non-null    int64  \n",
      " 1   Happiness Score                156 non-null    float64\n",
      " 2   Economy (GDP per Capita)       156 non-null    float64\n",
      " 3   Family                         156 non-null    float64\n",
      " 4   Health (Life Expectancy)       156 non-null    float64\n",
      " 5   Freedom                        156 non-null    float64\n",
      " 6   Generosity                     156 non-null    float64\n",
      " 7   Trust (Government Corruption)  155 non-null    float64\n",
      "dtypes: float64(7), int64(1)\n",
      "memory usage: 11.0+ KB\n"
     ]
    }
   ],
   "source": [
    "dfs[\"2018\"].info()"
   ]
  },
  {
   "cell_type": "code",
   "execution_count": 269,
   "metadata": {},
   "outputs": [
    {
     "name": "stdout",
     "output_type": "stream",
     "text": [
      "<class 'pandas.core.frame.DataFrame'>\n",
      "Index: 156 entries, Finland to Burundi\n",
      "Data columns (total 8 columns):\n",
      " #   Column                         Non-Null Count  Dtype  \n",
      "---  ------                         --------------  -----  \n",
      " 0   Happiness Rank                 156 non-null    int64  \n",
      " 1   Happiness Score                156 non-null    float64\n",
      " 2   Economy (GDP per Capita)       156 non-null    float64\n",
      " 3   Family                         156 non-null    float64\n",
      " 4   Health (Life Expectancy)       156 non-null    float64\n",
      " 5   Freedom                        156 non-null    float64\n",
      " 6   Generosity                     156 non-null    float64\n",
      " 7   Trust (Government Corruption)  156 non-null    float64\n",
      "dtypes: float64(7), int64(1)\n",
      "memory usage: 15.0+ KB\n"
     ]
    }
   ],
   "source": [
    "# Notamos que na coluna 'Trust (Government Corruption)' havia um valor \n",
    "# nulo, que foi preenchido com a média do valor dos anos de 2017 e 2019.\n",
    "list_trusts = [dfs[\"2017\"][\"Trust (Government Corruption)\"], dfs[\"2019\"][\"Trust (Government Corruption)\"]]\n",
    "df_trusts = pd.concat(list_trusts, axis=1)\n",
    "mean_trust_2017_2019 = df_trusts.loc[\"United Arab Emirates\"].mean()\n",
    "dfs[\"2018\"].loc[\"United Arab Emirates\", \"Trust (Government Corruption)\"] = mean_trust_2017_2019\n",
    "dfs[\"2018\"].info()"
   ]
  },
  {
   "cell_type": "code",
   "execution_count": 270,
   "metadata": {},
   "outputs": [
    {
     "name": "stdout",
     "output_type": "stream",
     "text": [
      "<class 'pandas.core.frame.DataFrame'>\n",
      "Index: 156 entries, Finland to South Sudan\n",
      "Data columns (total 8 columns):\n",
      " #   Column                         Non-Null Count  Dtype  \n",
      "---  ------                         --------------  -----  \n",
      " 0   Happiness Rank                 156 non-null    int64  \n",
      " 1   Happiness Score                156 non-null    float64\n",
      " 2   Economy (GDP per Capita)       156 non-null    float64\n",
      " 3   Family                         156 non-null    float64\n",
      " 4   Health (Life Expectancy)       156 non-null    float64\n",
      " 5   Freedom                        156 non-null    float64\n",
      " 6   Generosity                     156 non-null    float64\n",
      " 7   Trust (Government Corruption)  156 non-null    float64\n",
      "dtypes: float64(7), int64(1)\n",
      "memory usage: 15.0+ KB\n"
     ]
    }
   ],
   "source": [
    "dfs[\"2019\"].info()"
   ]
  },
  {
   "cell_type": "markdown",
   "metadata": {},
   "source": [
    "# Perguntas\n",
    "1. Quais foram as alterações ano a ano no ranking dos primeiros 10 países?"
   ]
  },
  {
   "cell_type": "code",
   "execution_count": 271,
   "metadata": {},
   "outputs": [
    {
     "data": {
      "text/html": [
       "<div>\n",
       "<style scoped>\n",
       "    .dataframe tbody tr th:only-of-type {\n",
       "        vertical-align: middle;\n",
       "    }\n",
       "\n",
       "    .dataframe tbody tr th {\n",
       "        vertical-align: top;\n",
       "    }\n",
       "\n",
       "    .dataframe thead th {\n",
       "        text-align: right;\n",
       "    }\n",
       "</style>\n",
       "<table border=\"1\" class=\"dataframe\">\n",
       "  <thead>\n",
       "    <tr style=\"text-align: right;\">\n",
       "      <th></th>\n",
       "      <th>2015</th>\n",
       "      <th>2016</th>\n",
       "      <th>2017</th>\n",
       "      <th>2018</th>\n",
       "      <th>2019</th>\n",
       "    </tr>\n",
       "  </thead>\n",
       "  <tbody>\n",
       "    <tr>\n",
       "      <th>Switzerland</th>\n",
       "      <td>1.0</td>\n",
       "      <td>2.0</td>\n",
       "      <td>4.0</td>\n",
       "      <td>5.0</td>\n",
       "      <td>6.0</td>\n",
       "    </tr>\n",
       "    <tr>\n",
       "      <th>Iceland</th>\n",
       "      <td>2.0</td>\n",
       "      <td>3.0</td>\n",
       "      <td>3.0</td>\n",
       "      <td>4.0</td>\n",
       "      <td>4.0</td>\n",
       "    </tr>\n",
       "    <tr>\n",
       "      <th>Denmark</th>\n",
       "      <td>3.0</td>\n",
       "      <td>1.0</td>\n",
       "      <td>2.0</td>\n",
       "      <td>3.0</td>\n",
       "      <td>2.0</td>\n",
       "    </tr>\n",
       "    <tr>\n",
       "      <th>Norway</th>\n",
       "      <td>4.0</td>\n",
       "      <td>4.0</td>\n",
       "      <td>1.0</td>\n",
       "      <td>2.0</td>\n",
       "      <td>3.0</td>\n",
       "    </tr>\n",
       "    <tr>\n",
       "      <th>Canada</th>\n",
       "      <td>5.0</td>\n",
       "      <td>6.0</td>\n",
       "      <td>7.0</td>\n",
       "      <td>7.0</td>\n",
       "      <td>9.0</td>\n",
       "    </tr>\n",
       "    <tr>\n",
       "      <th>Finland</th>\n",
       "      <td>6.0</td>\n",
       "      <td>5.0</td>\n",
       "      <td>5.0</td>\n",
       "      <td>1.0</td>\n",
       "      <td>1.0</td>\n",
       "    </tr>\n",
       "    <tr>\n",
       "      <th>Netherlands</th>\n",
       "      <td>7.0</td>\n",
       "      <td>7.0</td>\n",
       "      <td>6.0</td>\n",
       "      <td>6.0</td>\n",
       "      <td>5.0</td>\n",
       "    </tr>\n",
       "    <tr>\n",
       "      <th>Sweden</th>\n",
       "      <td>8.0</td>\n",
       "      <td>10.0</td>\n",
       "      <td>9.0</td>\n",
       "      <td>9.0</td>\n",
       "      <td>7.0</td>\n",
       "    </tr>\n",
       "    <tr>\n",
       "      <th>New Zealand</th>\n",
       "      <td>9.0</td>\n",
       "      <td>8.0</td>\n",
       "      <td>8.0</td>\n",
       "      <td>8.0</td>\n",
       "      <td>8.0</td>\n",
       "    </tr>\n",
       "    <tr>\n",
       "      <th>Australia</th>\n",
       "      <td>10.0</td>\n",
       "      <td>9.0</td>\n",
       "      <td>10.0</td>\n",
       "      <td>10.0</td>\n",
       "      <td>NaN</td>\n",
       "    </tr>\n",
       "    <tr>\n",
       "      <th>Austria</th>\n",
       "      <td>NaN</td>\n",
       "      <td>NaN</td>\n",
       "      <td>NaN</td>\n",
       "      <td>NaN</td>\n",
       "      <td>10.0</td>\n",
       "    </tr>\n",
       "  </tbody>\n",
       "</table>\n",
       "</div>"
      ],
      "text/plain": [
       "             2015  2016  2017  2018  2019\n",
       "Switzerland   1.0   2.0   4.0   5.0   6.0\n",
       "Iceland       2.0   3.0   3.0   4.0   4.0\n",
       "Denmark       3.0   1.0   2.0   3.0   2.0\n",
       "Norway        4.0   4.0   1.0   2.0   3.0\n",
       "Canada        5.0   6.0   7.0   7.0   9.0\n",
       "Finland       6.0   5.0   5.0   1.0   1.0\n",
       "Netherlands   7.0   7.0   6.0   6.0   5.0\n",
       "Sweden        8.0  10.0   9.0   9.0   7.0\n",
       "New Zealand   9.0   8.0   8.0   8.0   8.0\n",
       "Australia    10.0   9.0  10.0  10.0   NaN\n",
       "Austria       NaN   NaN   NaN   NaN  10.0"
      ]
     },
     "execution_count": 271,
     "metadata": {},
     "output_type": "execute_result"
    }
   ],
   "source": [
    "ranks = [\n",
    "    dfs[\"2015\"][\"Happiness Rank\"].nsmallest(10),\n",
    "    dfs[\"2016\"][\"Happiness Rank\"].nsmallest(10),\n",
    "    dfs[\"2017\"][\"Happiness Rank\"].nsmallest(10),\n",
    "    dfs[\"2018\"][\"Happiness Rank\"].nsmallest(10),\n",
    "    dfs[\"2019\"][\"Happiness Rank\"].nsmallest(10),\n",
    "]\n",
    "df_ranks = pd.concat(ranks, axis=1)\n",
    "df_ranks.columns = [\"2015\", \"2016\", \"2017\", \"2018\", \"2019\"]\n",
    "df_ranks"
   ]
  },
  {
   "cell_type": "code",
   "execution_count": 272,
   "metadata": {},
   "outputs": [],
   "source": [
    "df_ranks.to_csv(\"resultados/pergunta_01.csv\")"
   ]
  },
  {
   "cell_type": "markdown",
   "metadata": {},
   "source": [
    "Resposta: \n",
    "\n",
    "Observando a tabela acima, percebe-se que uma das principais alterações durante os anos observados foi a saída da Austrália e a entrada da Áustria no top 10 do ranking.\n",
    "Abaixo, um gráfico ilustrativo das alterações ano a ano para cada país."
   ]
  },
  {
   "cell_type": "code",
   "execution_count": 312,
   "metadata": {},
   "outputs": [
    {
     "data": {
      "image/png": "[encoded data removed]",
      "text/plain": [
       "<Figure size 1080x720 with 1 Axes>"
      ]
     },
     "metadata": {},
     "output_type": "display_data"
    }
   ],
   "source": [
    "df_ranks.T.plot(kind=\"line\", figsize=(15, 10), ylabel=\"Ranking\", xlabel=\"Year\", marker=\"o\", ms=15).invert_yaxis()\n",
    "plt.legend(bbox_to_anchor=(1, 0.75))\n",
    "plt.show()"
   ]
  },
  {
   "cell_type": "markdown",
   "metadata": {},
   "source": [
    "2. Considerando a média de todas as variáveis, quais foram as 3 variáveis que mais mudaram ano a ano (desconsiderando score e ranking)?"
   ]
  },
  {
   "cell_type": "code",
   "execution_count": null,
   "metadata": {},
   "outputs": [],
   "source": [
    "# Primeiramente, criamos uma lista com a média das variáveis para cada ano \n",
    "# e concatenamos todas elas em um único DataFrame\n",
    "means = []\n",
    "for year in dfs:\n",
    "    means.append(dfs[year].describe().loc[\"mean\"])\n",
    "df_means = pd.concat(means, axis=1)\n",
    "df_means.columns = [\"2015\", \"2016\", \"2017\", \"2018\", \"2019\"]\n",
    "\n",
    "# As colunas 'Happiness Rank' e 'Happiness Score' foram desconsideradas conforme pedido na pergunta\n",
    "df_means.drop([\"Happiness Rank\", \"Happiness Score\"], inplace=True)\n",
    "\n",
    "# Criamos 4 novas colunas com a porcentagem de mudança das variáveis entre os anos\n",
    "df_means[\"2015 a 2016 (%)\"] = abs((df_means[\"2016\"] - df_means[\"2015\"]) / df_means[\"2015\"])*100\n",
    "df_means[\"2016 a 2017 (%)\"] = abs((df_means[\"2017\"] - df_means[\"2016\"]) / df_means[\"2016\"])*100\n",
    "df_means[\"2017 a 2018 (%)\"] = abs((df_means[\"2018\"] - df_means[\"2017\"]) / df_means[\"2017\"])*100\n",
    "df_means[\"2018 a 2019 (%)\"] = abs((df_means[\"2019\"] - df_means[\"2018\"]) / df_means[\"2018\"])*100\n",
    "\n",
    "# Printando as 3 maiores variações ano a ano\n",
    "display(df_means.nlargest(3, \"2015 a 2016 (%)\").loc[:, [\"2015 a 2016 (%)\"]])\n",
    "display(df_means.nlargest(3, \"2016 a 2017 (%)\").loc[:, [\"2016 a 2017 (%)\"]])\n",
    "display(df_means.nlargest(3, \"2017 a 2018 (%)\").loc[:, [\"2017 a 2018 (%)\"]])\n",
    "display(df_means.nlargest(3, \"2018 a 2019 (%)\").loc[:, [\"2018 a 2019 (%)\"]])"
   ]
  },
  {
   "cell_type": "code",
   "execution_count": null,
   "metadata": {},
   "outputs": [],
   "source": [
    "df_means.to_csv(\"resultados/pergunta_02.csv\")"
   ]
  },
  {
   "cell_type": "markdown",
   "metadata": {},
   "source": [
    "Resposta:\n",
    "\n",
    "Entre 2015 e 2016, as maiores variações ocorreram para as variáveis 'Family', 'Freedom' e 'Economy'.\n",
    "\n",
    "Entre 2016 e 2017, 'Trust', 'Family' e 'Generosity'.\n",
    "\n",
    "Entre 2017 e 2018, 'Trust', 'Generosity' e 'Freedom'.\n",
    "\n",
    "Entre 2018 e 2019, 'Health', 'Freedom' e 'Trust'."
   ]
  },
  {
   "cell_type": "markdown",
   "metadata": {},
   "source": [
    "3. Quais foram os top 3 países que mais tiveram mudança positiva e negativa de GDP?\n"
   ]
  },
  {
   "cell_type": "code",
   "execution_count": null,
   "metadata": {},
   "outputs": [],
   "source": [
    "# Inicialmente, selecionamos a coluna de 'Economy (GDP per Capita)' de cada\n",
    "# ano e concatemos num único DF.\n",
    "gdps = [\n",
    "    dfs[\"2015\"][\"Economy (GDP per Capita)\"],\n",
    "    dfs[\"2016\"][\"Economy (GDP per Capita)\"],\n",
    "    dfs[\"2017\"][\"Economy (GDP per Capita)\"],\n",
    "    dfs[\"2018\"][\"Economy (GDP per Capita)\"],\n",
    "    dfs[\"2019\"][\"Economy (GDP per Capita)\"],\n",
    "]\n",
    "df_gdps = pd.concat(gdps, axis=1)\n",
    "df_gdps.columns = [\"2015\", \"2016\", \"2017\", \"2018\", \"2019\"]\n",
    "\n",
    "#Para auxiliar na análise, os valores iguais a 0 foram convertidos em NaN\n",
    "df_gdps.replace(0, np.nan, inplace=True)\n",
    "\n",
    "# Criamos 4 novas colunas com a porcentagem de mudança do GDP entre os anos\n",
    "df_gdps[\"2015 a 2016 (%)\"] = (df_gdps[\"2016\"]/df_gdps[\"2015\"] - 1)*100\n",
    "df_gdps[\"2016 a 2017 (%)\"] = (df_gdps[\"2017\"]/df_gdps[\"2016\"] - 1)*100\n",
    "df_gdps[\"2017 a 2018 (%)\"] = (df_gdps[\"2018\"]/df_gdps[\"2017\"] - 1)*100\n",
    "df_gdps[\"2018 a 2019 (%)\"] = (df_gdps[\"2019\"]/df_gdps[\"2018\"] - 1)*100\n",
    "df_gdps = df_gdps.reset_index()\n",
    "\n",
    "# Reorganizamos o DF utilizando o nome dos países como índice (pode haver \n",
    "# mais de uma aparição) com os correspondentes valores de variação do GDP\n",
    "df_gdps = pd.melt(df_gdps,  id_vars=['index'], value_vars=['2015 a 2016 (%)', '2016 a 2017 (%)','2017 a 2018 (%)','2018 a 2019 (%)'])\n",
    "df_gdps.columns = [\"Country\", \"Year\", \"Delta GDP (%)\"]\n",
    "print(f\"{'Maiores variações positivas de GDP':^45}\")\n",
    "display(df_gdps.nlargest(3, 'Delta GDP (%)'))\n",
    "print(f\"\\n{'Maiores variações negativas de GDP':^45}\")\n",
    "display(df_gdps.nsmallest(3, 'Delta GDP (%)'))"
   ]
  },
  {
   "cell_type": "code",
   "execution_count": null,
   "metadata": {},
   "outputs": [],
   "source": [
    "df_gdps.to_csv(\"resultados/pergunta_03.csv\")"
   ]
  },
  {
   "cell_type": "markdown",
   "metadata": {},
   "source": [
    "Resposta:\n",
    "\n",
    "Os países que tiveram o maior crescimento da GDP no período observado foram Malawi (2015-2016), Burundi (2015-2016) e Malawi (2016-2017). \n",
    "\n",
    "Já os países que tiveram maior queda no GDP foram Burundi (2018-2019), Libéria (2017-2018) e Iêmen (2018-2019)."
   ]
  },
  {
   "cell_type": "markdown",
   "metadata": {},
   "source": [
    "4. Qual foi o país que mais subiu no ranking no período inteiro analisado?"
   ]
  },
  {
   "cell_type": "code",
   "execution_count": null,
   "metadata": {},
   "outputs": [],
   "source": [
    "# Inicialmente, selecionamos a coluna de 'Happiness Rank' de cada ano e\n",
    "# concatemos em um único DF.\n",
    "rankings = [\n",
    "    dfs[\"2015\"][\"Happiness Rank\"],\n",
    "    dfs[\"2016\"][\"Happiness Rank\"],\n",
    "    dfs[\"2017\"][\"Happiness Rank\"],\n",
    "    dfs[\"2018\"][\"Happiness Rank\"],\n",
    "    dfs[\"2019\"][\"Happiness Rank\"],\n",
    "]\n",
    "df_ranks = pd.concat(rankings, axis=1)\n",
    "df_ranks.columns = [\"2015\", \"2016\", \"2017\", \"2018\", \"2019\"]\n",
    "\n",
    "# Foram removidas quaisquer linhas que apresentassem NaN, ou seja, países\n",
    "# que não tiveram o índice calculado em todos os anos observados. \n",
    "df_ranks.dropna(inplace=True)\n",
    "\n",
    "# Criamos uma nova coluna com a variação no ranking entre 2015 e 2019 \n",
    "# para cada país, ordenamos os valores e visualizamos os 5 primeiros.\n",
    "df_ranks[\"Delta\"] = df_ranks[\"2015\"] - df_ranks[\"2019\"]\n",
    "df_ranks.sort_values(by=\"Delta\", ascending=False, inplace=True)\n",
    "df_ranks.head()"
   ]
  },
  {
   "cell_type": "code",
   "execution_count": null,
   "metadata": {},
   "outputs": [],
   "source": [
    "df_ranks.to_csv(\"resultados/pergunta_04.csv\")"
   ]
  },
  {
   "cell_type": "markdown",
   "metadata": {},
   "source": [
    "Resposta:\n",
    "\n",
    "O país que mais subiu no ranking entre 2015 e 2019 foi Benin."
   ]
  },
  {
   "cell_type": "markdown",
   "metadata": {},
   "source": [
    "5. Houve países que saíram ou entraram no index?\n"
   ]
  },
  {
   "cell_type": "code",
   "execution_count": null,
   "metadata": {},
   "outputs": [],
   "source": [
    "# Inicialmente, selecionamos a coluna de 'Happiness Rank' de cada ano \n",
    "# e concatemos em um único DF.\n",
    "rankings = [\n",
    "    dfs[\"2015\"][\"Happiness Rank\"],\n",
    "    dfs[\"2016\"][\"Happiness Rank\"],\n",
    "    dfs[\"2017\"][\"Happiness Rank\"],\n",
    "    dfs[\"2018\"][\"Happiness Rank\"],\n",
    "    dfs[\"2019\"][\"Happiness Rank\"],\n",
    "]\n",
    "df_ranks = pd.concat(rankings, axis=1)\n",
    "df_ranks.columns = [\"2015\", \"2016\", \"2017\", \"2018\", \"2019\"]\n",
    "\n",
    "# Selecionamos todas as linhas que tivessem pelo menos um valor NaN no DF. \n",
    "df_entraram_sairam = df_ranks[df_ranks.isna().any(axis=1)]\n",
    "df_entraram_sairam = df_entraram_sairam.sort_index()\n",
    "print(f\"{len(df_entraram_sairam)} countries entered and left the rankings\")\n",
    "df_entraram_sairam"
   ]
  },
  {
   "cell_type": "code",
   "execution_count": null,
   "metadata": {},
   "outputs": [],
   "source": [
    "df_entraram_sairam.to_csv(\"resultados/pergunta_05.csv\")"
   ]
  },
  {
   "cell_type": "markdown",
   "metadata": {},
   "source": [
    "Resposta:\n",
    "\n",
    "No período analisado, 18 países entraram ou saíram do ranking."
   ]
  },
  {
   "cell_type": "markdown",
   "metadata": {},
   "source": [
    "6. Quais foram os 3 países que mais tiveram mudança (positiva e negativa) na expectativa de vida?\n"
   ]
  },
  {
   "cell_type": "code",
   "execution_count": null,
   "metadata": {},
   "outputs": [],
   "source": [
    "# Inicialmente, selecionamos a coluna de 'Health (Life Expectancy)' de cada\n",
    "# ano e concatemos num único DF.\n",
    "healths = [\n",
    "    dfs[\"2015\"][\"Health (Life Expectancy)\"],\n",
    "    dfs[\"2016\"][\"Health (Life Expectancy)\"],\n",
    "    dfs[\"2017\"][\"Health (Life Expectancy)\"],\n",
    "    dfs[\"2018\"][\"Health (Life Expectancy)\"],\n",
    "    dfs[\"2019\"][\"Health (Life Expectancy)\"],\n",
    "]\n",
    "df_health = pd.concat(healths, axis=1)\n",
    "df_health.columns = [\"2015\", \"2016\", \"2017\", \"2018\", \"2019\"]\n",
    "\n",
    "#Para auxiliar na análise, os valores iguais a 0 foram convertidos em NaN\n",
    "df_health.replace(0, np.nan, inplace=True)\n",
    "\n",
    "# Criamos 4 novas colunas com a porcentagem de mudança de Health entre os anos\n",
    "df_health[\"2015 a 2016 (%)\"] = (df_health[\"2016\"]/df_health[\"2015\"] - 1)*100\n",
    "df_health[\"2016 a 2017 (%)\"] = (df_health[\"2017\"]/df_health[\"2016\"] - 1)*100\n",
    "df_health[\"2017 a 2018 (%)\"] = (df_health[\"2018\"]/df_health[\"2017\"] - 1)*100\n",
    "df_health[\"2018 a 2019 (%)\"] = (df_health[\"2019\"]/df_health[\"2018\"] - 1)*100\n",
    "df_health = df_health.reset_index()\n",
    "\n",
    "# Reorganizamos o DF utilizando o nome dos países como índice (pode haver \n",
    "# mais de uma aparição) com as correspondentes variações do valor Health\n",
    "df_health = pd.melt(df_health,  id_vars=['index'], value_vars=['2015 a 2016 (%)', '2016 a 2017 (%)','2017 a 2018 (%)','2018 a 2019 (%)'])\n",
    "df_health.columns = [\"Country\", \"Year\", \"Health (%)\"]\n",
    "print(f\"{'Maiores variações positivas de Health':^42}\")\n",
    "display(df_health.nlargest(3, 'Health (%)'))\n",
    "print(f\"\\n{'Maiores variações negativas de Health':^42}\")\n",
    "display(df_health.nsmallest(3, 'Health (%)'))"
   ]
  },
  {
   "cell_type": "code",
   "execution_count": null,
   "metadata": {},
   "outputs": [],
   "source": [
    "df_health.to_csv(\"resultados/pergunta_06.csv\")"
   ]
  },
  {
   "cell_type": "markdown",
   "metadata": {},
   "source": [
    "Resposta:\n",
    "\n",
    "Os países que tiveram o maior variação positiva do índice Health no período observado foram República Centro-Africana (2018-2019), Botsuana (2015-2016) e Angola (2017-2018). \n",
    "\n",
    "Já os países que tiveram maior variação negativa no índice Health foram Chade (2015-2016), Costa do Marfim (2015-2016) e Angola (2015-2016)."
   ]
  },
  {
   "cell_type": "markdown",
   "metadata": {},
   "source": [
    "7. Cite mais 2 conclusões que julgar pertinente sobre o assunto."
   ]
  },
  {
   "cell_type": "markdown",
   "metadata": {},
   "source": [
    "Conclusão 1:\n",
    "\n",
    "Há uma forte correlação sugerida entre os índices \"Economy (GDP per Capita)\" e \"Health (Life Expectancy) que variou de 82% para 84% entre os anos observados.\n",
    "\n",
    "Percebeu-se também um aumento de 10% da correlação entre \"Economy (GDP per Capita)\" e \"Family\", que passou de 65% para 75% entre os anos observados."
   ]
  },
  {
   "cell_type": "code",
   "execution_count": null,
   "metadata": {},
   "outputs": [],
   "source": [
    "# Usando o Seaborn para o heatmap\n",
    "import seaborn as sns\n",
    "import matplotlib.pyplot as plt\n",
    "sns.set(rc={'figure.figsize':(10, 7)}, font_scale=1.5)\n",
    "\n",
    "def plot_heatmap(ano):\n",
    "    # Copia para não alterar o original\n",
    "    plt.clf()\n",
    "    df = dfs[ano].copy()\n",
    "\n",
    "    # Remove as colunas que não precisamos\n",
    "    df.drop([\"Happiness Rank\", \"Happiness Score\"], axis=1, inplace=True)\n",
    "    df.columns = [\"Economy\", \"Family\", \"Health\", \"Freedom\", \"Trust\", \"Generosity\"]\n",
    "\n",
    "    # Dataframe de correlação\n",
    "    corr = df.corr()\n",
    "    ax = sns.heatmap(\n",
    "        corr,\n",
    "        xticklabels=corr.columns,\n",
    "        yticklabels=corr.columns,\n",
    "        fmt=\".2g\",\n",
    "        annot=True,\n",
    "        cmap=\"bwr\",\n",
    "        linewidths=.5,\n",
    "        vmin=-1,\n",
    "        vmax=1,\n",
    "    )\n",
    "    ax.set_title(f\"Correlação entre variáveis - {ano}\")\n",
    "    return ax\n",
    "\n",
    "figs = []\n",
    "for ano in dfs:\n",
    "    fig = plot_heatmap(ano)\n",
    "    figs.append(fig)\n",
    "    plt.show()\n",
    "    # fig.get_figure().savefig(f\"correlacao_{ano}.png\", dpi=300, transparent=True)"
   ]
  }
 ],
 "metadata": {
  "kernelspec": {
   "display_name": "Python 3.9.13 64-bit (windows store)",
   "language": "python",
   "name": "python3"
  },
  "language_info": {
   "codemirror_mode": {
    "name": "ipython",
    "version": 3
   },
   "file_extension": ".py",
   "mimetype": "text/x-python",
   "name": "python",
   "nbconvert_exporter": "python",
   "pygments_lexer": "ipython3",
   "version": "3.9.13"
  },
  "orig_nbformat": 4,
  "vscode": {
   "interpreter": {
    "hash": "dd6fa4d6f0a1a7aa9bdc072883c48976994fbf14d27bb5862e9df6e6cd5aadee"
   }
  }
 },
 "nbformat": 4,
 "nbformat_minor": 2
}
