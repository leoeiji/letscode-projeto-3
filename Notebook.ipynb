{
 "cells": [
  {
   "cell_type": "code",
   "execution_count": 1,
   "metadata": {},
   "outputs": [],
   "source": [
    "import pandas as pd\n",
    "import numpy as np\n",
    "import matplotlib.pyplot as plt"
   ]
  },
  {
   "cell_type": "markdown",
   "metadata": {},
   "source": [
    "# World Happiness Report\n",
    "\n",
    "## Colunas\n",
    "- GDP - Gross Domestic Product (o valor de todos os bens e servicos um pais\n",
    "produz no ano)\n",
    "- Social Support - Sim ou não (Pergunta: Se estivesse em problemas, você tem\n",
    "amigos ou família nos quais você pode contar) e fazem uma média\n",
    "- Health Expectancy - Calculado pela WHO (pesquisar)\n",
    "- Freedom to make choices - Sim ou Não\n",
    "- Generosity - Sim ou Não (Pergunta: Você doou dinheiro no ultimo ano\n",
    "- Corrupção - Sim ou Não - Duas perguntas (Tem corrupção no governo. Tem\n",
    "corrupção nas empresas)\n",
    "- Score - Somatória das variáveis\n",
    "\n",
    "## Objetivos\n",
    "\n",
    "- Fazer uma análise exploratória de dados através dos anos 2105 até 2019.\n",
    "- Para responder as perguntas:\n",
    "    - Quais foram as alterações ano a ano no ranking dos primeiros 10 países.\n",
    "    - Considerando a média de todas as variáveis, quais foram as 3 variáveis que mais mudaram ano a\n",
    "    ano.(Sem contar o score ou ranking)\n",
    "    - Quais foram os top 3 países que mais tiveram mudança positiva e negativa de GPD.\n",
    "    - Qual foi o país que mais subiu no ranking no período inteiro analisado.\n",
    "    - Teve países que saíram ou entraram do index.\n",
    "    - Quais foram os 3 países que mais tiveram mudança na expectativa de vida, positiva e negativa.\n",
    "    - 2 questões extras que vocês acham interessante analisar"
   ]
  },
  {
   "cell_type": "code",
   "execution_count": null,
   "metadata": {},
   "outputs": [],
   "source": []
  }
 ],
 "metadata": {
  "kernelspec": {
   "display_name": "Python 3.9.13 64-bit (windows store)",
   "language": "python",
   "name": "python3"
  },
  "language_info": {
   "codemirror_mode": {
    "name": "ipython",
    "version": 3
   },
   "file_extension": ".py",
   "mimetype": "text/x-python",
   "name": "python",
   "nbconvert_exporter": "python",
   "pygments_lexer": "ipython3",
   "version": "3.9.13"
  },
  "orig_nbformat": 4,
  "vscode": {
   "interpreter": {
    "hash": "dd6fa4d6f0a1a7aa9bdc072883c48976994fbf14d27bb5862e9df6e6cd5aadee"
   }
  }
 },
 "nbformat": 4,
 "nbformat_minor": 2
}
