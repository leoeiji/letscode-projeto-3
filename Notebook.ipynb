{
 "cells": [
  {
   "cell_type": "markdown",
   "metadata": {},
   "source": [
    "# Projeto 3 - World Happiness Report\n",
    "\n",
    "## Objetivos\n",
    "\n",
    "- Fazer uma análise exploratória dos dados dos anos 2015 à 2019 para responder as perguntas:\n",
    "\n",
    "    1. Quais foram as alterações ano a ano no ranking dos primeiros 10 países?\n",
    "\n",
    "    2. Considerando a média de todas as variáveis, quais foram as 3 variáveis que mais mudaram ano a ano (desconsiderando score e ranking)?\n",
    "\n",
    "    3. Quais foram os top 3 países que mais tiveram mudança positiva e negativa de GDP?\n",
    "\n",
    "    4. Qual foi o país que mais subiu no ranking no período inteiro analisado?\n",
    "\n",
    "    5. Houve países que saíram ou entraram no index?\n",
    "    \n",
    "    6. Quais foram os 3 países que mais tiveram mudança (positiva e negativa) na expectativa de vida?\n",
    "\n",
    "    7. Cite mais 2 conclusões que julgar pertinente sobre o assunto.\n",
    "\n",
    "\n",
    "## Variáveis\n",
    "\n",
    "- Happiness Rank - Posição no ranking dos países mais felizes;\n",
    "\n",
    "- Happiness Score - Somatória das variáveis;\n",
    "\n",
    "- Economy (GDP per Capita) - Gross Domestic Product (o valor de todos os bens e serviços que um país produz no ano);\n",
    "\n",
    "- Family - Sim ou não (Pergunta: Se estivesse em problemas, você teria amigos ou família com os quais poderia contar?);\n",
    "\n",
    "- Health (Life Expectancy) - Calculado pela WHO (World Health Organization);\n",
    "\n",
    "- Freedom - Sim ou Não;\n",
    "\n",
    "- Generosity - Sim ou Não (Pergunta: Você doou dinheiro no último ano?);\n",
    "\n",
    "- Trust (Government Corruption) - Sim ou Não - Duas perguntas (Há corrupção no governo? Há corrupção nas empresas?).\n"
   ]
  },
  {
   "cell_type": "markdown",
   "metadata": {},
   "source": [
    "Fonte dos dados: Kaggle (https://www.kaggle.com/datasets/unsdsn/world-happiness?select=2015.csv)"
   ]
  },
  {
   "cell_type": "code",
   "execution_count": 95,
   "metadata": {},
   "outputs": [],
   "source": [
    "import pandas as pd\n",
    "import numpy as np\n",
    "import matplotlib.pyplot as plt"
   ]
  },
  {
   "cell_type": "code",
   "execution_count": 96,
   "metadata": {},
   "outputs": [],
   "source": [
    "# Começamos importando as variáveis desejadas do World Happiness Report \n",
    "# (anos 2015 a 2019) em um dicionário, no qual a chave representa o ano \n",
    "# respectivo daquele report, facilitando assim a chamada do DataFrame \n",
    "# desejado.\n",
    "dfs = {\n",
    "    \"2015\": pd.read_csv(\"dados/2015.csv\", index_col=\"Country\", usecols=[\"Country\", \"Happiness Rank\", \"Happiness Score\", \"Economy (GDP per Capita)\", \"Family\", \"Health (Life Expectancy)\", \"Freedom\", \"Generosity\", \"Trust (Government Corruption)\"]),\n",
    "    \"2016\": pd.read_csv(\"dados/2016.csv\", index_col=\"Country\", usecols=[\"Country\", \"Happiness Rank\", \"Happiness Score\", \"Economy (GDP per Capita)\", \"Family\", \"Health (Life Expectancy)\", \"Freedom\", \"Generosity\", \"Trust (Government Corruption)\"]),\n",
    "    \"2017\": pd.read_csv(\"dados/2017.csv\", index_col=\"Country\", usecols=[\"Country\", \"Happiness.Rank\", \"Happiness.Score\", \"Economy..GDP.per.Capita.\", \"Family\", \"Health..Life.Expectancy.\", \"Freedom\", \"Generosity\", \"Trust..Government.Corruption.\"]),\n",
    "    \"2018\": pd.read_csv(\"dados/2018.csv\", index_col=\"Country or region\", usecols=[\"Country or region\",\"Overall rank\",\"Score\",\"GDP per capita\",\"Social support\",\"Healthy life expectancy\",\"Freedom to make life choices\",\"Generosity\",\"Perceptions of corruption\"]),\n",
    "    \"2019\": pd.read_csv(\"dados/2019.csv\", index_col=\"Country or region\", usecols=[\"Country or region\",\"Overall rank\", 'Score', 'GDP per capita', 'Social support', 'Healthy life expectancy', 'Freedom to make life choices', 'Generosity', 'Perceptions of corruption', 'Generosity'])\n",
    "}"
   ]
  },
  {
   "cell_type": "code",
   "execution_count": 97,
   "metadata": {},
   "outputs": [],
   "source": [
    "# Foi necessária a mudança do nome de algumas linhas para uniformizar \n",
    "# os dados entre os DFs dos diferentes anos. Posteriormente, os nomes \n",
    "# das colunas também foram uniformizados.\n",
    "\n",
    "renames = {\n",
    "    'Northern Cyprus': 'North Cyprus',\n",
    "    'Hong Kong': 'Hong Kong S.A.R., China',\n",
    "    'Somaliland region': 'Somaliland Region',\n",
    "    'Taiwan': 'Taiwan Province of China',\n",
    "    'Trinidad and Tobago': 'Trinidad & Tobago',\n",
    "    'North Macedonia': 'Macedonia',\n",
    "}\n",
    "for year in range(2015, 2020):\n",
    "    dfs[str(year)] = dfs[str(year)].rename(index=renames)"
   ]
  },
  {
   "cell_type": "code",
   "execution_count": 98,
   "metadata": {},
   "outputs": [],
   "source": [
    "# Uniformizamos os nomes das colunas\n",
    "dfs[\"2015\"].columns = ['Happiness Rank', 'Happiness Score', 'Economy (GDP per Capita)', 'Family', 'Health (Life Expectancy)', 'Freedom', 'Trust (Government Corruption)', 'Generosity']\n",
    "dfs[\"2016\"].columns = ['Happiness Rank', 'Happiness Score', 'Economy (GDP per Capita)', 'Family', 'Health (Life Expectancy)', 'Freedom', 'Trust (Government Corruption)', 'Generosity']\n",
    "dfs[\"2017\"].columns = ['Happiness Rank', 'Happiness Score', 'Economy (GDP per Capita)', 'Family', 'Health (Life Expectancy)', 'Freedom', 'Trust (Government Corruption)', 'Generosity']\n",
    "dfs[\"2018\"].columns = ['Happiness Rank', 'Happiness Score', 'Economy (GDP per Capita)', 'Family', 'Health (Life Expectancy)', 'Freedom', 'Generosity', 'Trust (Government Corruption)']\n",
    "dfs[\"2019\"].columns = ['Happiness Rank', 'Happiness Score', 'Economy (GDP per Capita)', 'Family', 'Health (Life Expectancy)', 'Freedom', 'Generosity', 'Trust (Government Corruption)']"
   ]
  },
  {
   "cell_type": "code",
   "execution_count": 99,
   "metadata": {},
   "outputs": [
    {
     "name": "stdout",
     "output_type": "stream",
     "text": [
      "<class 'pandas.core.frame.DataFrame'>\n",
      "Index: 158 entries, Switzerland to Togo\n",
      "Data columns (total 8 columns):\n",
      " #   Column                         Non-Null Count  Dtype  \n",
      "---  ------                         --------------  -----  \n",
      " 0   Happiness Rank                 158 non-null    int64  \n",
      " 1   Happiness Score                158 non-null    float64\n",
      " 2   Economy (GDP per Capita)       158 non-null    float64\n",
      " 3   Family                         158 non-null    float64\n",
      " 4   Health (Life Expectancy)       158 non-null    float64\n",
      " 5   Freedom                        158 non-null    float64\n",
      " 6   Trust (Government Corruption)  158 non-null    float64\n",
      " 7   Generosity                     158 non-null    float64\n",
      "dtypes: float64(7), int64(1)\n",
      "memory usage: 11.1+ KB\n"
     ]
    }
   ],
   "source": [
    "dfs[\"2015\"].info()"
   ]
  },
  {
   "cell_type": "code",
   "execution_count": 100,
   "metadata": {},
   "outputs": [
    {
     "name": "stdout",
     "output_type": "stream",
     "text": [
      "<class 'pandas.core.frame.DataFrame'>\n",
      "Index: 157 entries, Denmark to Burundi\n",
      "Data columns (total 8 columns):\n",
      " #   Column                         Non-Null Count  Dtype  \n",
      "---  ------                         --------------  -----  \n",
      " 0   Happiness Rank                 157 non-null    int64  \n",
      " 1   Happiness Score                157 non-null    float64\n",
      " 2   Economy (GDP per Capita)       157 non-null    float64\n",
      " 3   Family                         157 non-null    float64\n",
      " 4   Health (Life Expectancy)       157 non-null    float64\n",
      " 5   Freedom                        157 non-null    float64\n",
      " 6   Trust (Government Corruption)  157 non-null    float64\n",
      " 7   Generosity                     157 non-null    float64\n",
      "dtypes: float64(7), int64(1)\n",
      "memory usage: 11.0+ KB\n"
     ]
    }
   ],
   "source": [
    "dfs[\"2016\"].info()"
   ]
  },
  {
   "cell_type": "code",
   "execution_count": 101,
   "metadata": {},
   "outputs": [
    {
     "name": "stdout",
     "output_type": "stream",
     "text": [
      "<class 'pandas.core.frame.DataFrame'>\n",
      "Index: 155 entries, Norway to Central African Republic\n",
      "Data columns (total 8 columns):\n",
      " #   Column                         Non-Null Count  Dtype  \n",
      "---  ------                         --------------  -----  \n",
      " 0   Happiness Rank                 155 non-null    int64  \n",
      " 1   Happiness Score                155 non-null    float64\n",
      " 2   Economy (GDP per Capita)       155 non-null    float64\n",
      " 3   Family                         155 non-null    float64\n",
      " 4   Health (Life Expectancy)       155 non-null    float64\n",
      " 5   Freedom                        155 non-null    float64\n",
      " 6   Trust (Government Corruption)  155 non-null    float64\n",
      " 7   Generosity                     155 non-null    float64\n",
      "dtypes: float64(7), int64(1)\n",
      "memory usage: 10.9+ KB\n"
     ]
    }
   ],
   "source": [
    "dfs[\"2017\"].info()"
   ]
  },
  {
   "cell_type": "code",
   "execution_count": 102,
   "metadata": {},
   "outputs": [
    {
     "name": "stdout",
     "output_type": "stream",
     "text": [
      "<class 'pandas.core.frame.DataFrame'>\n",
      "Index: 156 entries, Finland to Burundi\n",
      "Data columns (total 8 columns):\n",
      " #   Column                         Non-Null Count  Dtype  \n",
      "---  ------                         --------------  -----  \n",
      " 0   Happiness Rank                 156 non-null    int64  \n",
      " 1   Happiness Score                156 non-null    float64\n",
      " 2   Economy (GDP per Capita)       156 non-null    float64\n",
      " 3   Family                         156 non-null    float64\n",
      " 4   Health (Life Expectancy)       156 non-null    float64\n",
      " 5   Freedom                        156 non-null    float64\n",
      " 6   Generosity                     156 non-null    float64\n",
      " 7   Trust (Government Corruption)  155 non-null    float64\n",
      "dtypes: float64(7), int64(1)\n",
      "memory usage: 11.0+ KB\n"
     ]
    }
   ],
   "source": [
    "dfs[\"2018\"].info()"
   ]
  },
  {
   "cell_type": "code",
   "execution_count": 103,
   "metadata": {},
   "outputs": [
    {
     "name": "stdout",
     "output_type": "stream",
     "text": [
      "<class 'pandas.core.frame.DataFrame'>\n",
      "Index: 156 entries, Finland to Burundi\n",
      "Data columns (total 8 columns):\n",
      " #   Column                         Non-Null Count  Dtype  \n",
      "---  ------                         --------------  -----  \n",
      " 0   Happiness Rank                 156 non-null    int64  \n",
      " 1   Happiness Score                156 non-null    float64\n",
      " 2   Economy (GDP per Capita)       156 non-null    float64\n",
      " 3   Family                         156 non-null    float64\n",
      " 4   Health (Life Expectancy)       156 non-null    float64\n",
      " 5   Freedom                        156 non-null    float64\n",
      " 6   Generosity                     156 non-null    float64\n",
      " 7   Trust (Government Corruption)  156 non-null    float64\n",
      "dtypes: float64(7), int64(1)\n",
      "memory usage: 15.0+ KB\n"
     ]
    }
   ],
   "source": [
    "# Notamos que na coluna 'Trust (Government Corruption)' havia um valor \n",
    "# nulo, que foi preenchido com a média do valor dos anos de 2017 e 2019.\n",
    "list_trusts = [dfs[\"2017\"][\"Trust (Government Corruption)\"], dfs[\"2019\"][\"Trust (Government Corruption)\"]]\n",
    "df_trusts = pd.concat(list_trusts, axis=1)\n",
    "mean_trust_2017_2019 = df_trusts.loc[\"United Arab Emirates\"].mean()\n",
    "dfs[\"2018\"].loc[\"United Arab Emirates\", \"Trust (Government Corruption)\"] = mean_trust_2017_2019\n",
    "dfs[\"2018\"].info()"
   ]
  },
  {
   "cell_type": "code",
   "execution_count": 104,
   "metadata": {},
   "outputs": [
    {
     "name": "stdout",
     "output_type": "stream",
     "text": [
      "<class 'pandas.core.frame.DataFrame'>\n",
      "Index: 156 entries, Finland to South Sudan\n",
      "Data columns (total 8 columns):\n",
      " #   Column                         Non-Null Count  Dtype  \n",
      "---  ------                         --------------  -----  \n",
      " 0   Happiness Rank                 156 non-null    int64  \n",
      " 1   Happiness Score                156 non-null    float64\n",
      " 2   Economy (GDP per Capita)       156 non-null    float64\n",
      " 3   Family                         156 non-null    float64\n",
      " 4   Health (Life Expectancy)       156 non-null    float64\n",
      " 5   Freedom                        156 non-null    float64\n",
      " 6   Generosity                     156 non-null    float64\n",
      " 7   Trust (Government Corruption)  156 non-null    float64\n",
      "dtypes: float64(7), int64(1)\n",
      "memory usage: 15.0+ KB\n"
     ]
    }
   ],
   "source": [
    "dfs[\"2019\"].info()"
   ]
  },
  {
   "cell_type": "markdown",
   "metadata": {},
   "source": [
    "# Perguntas\n",
    "1. Quais foram as alterações ano a ano no ranking dos primeiros 10 países?"
   ]
  },
  {
   "cell_type": "code",
   "execution_count": 105,
   "metadata": {},
   "outputs": [
    {
     "data": {
      "text/html": [
       "<div>\n",
       "<style scoped>\n",
       "    .dataframe tbody tr th:only-of-type {\n",
       "        vertical-align: middle;\n",
       "    }\n",
       "\n",
       "    .dataframe tbody tr th {\n",
       "        vertical-align: top;\n",
       "    }\n",
       "\n",
       "    .dataframe thead th {\n",
       "        text-align: right;\n",
       "    }\n",
       "</style>\n",
       "<table border=\"1\" class=\"dataframe\">\n",
       "  <thead>\n",
       "    <tr style=\"text-align: right;\">\n",
       "      <th></th>\n",
       "      <th>2015</th>\n",
       "      <th>2016</th>\n",
       "      <th>2017</th>\n",
       "      <th>2018</th>\n",
       "      <th>2019</th>\n",
       "    </tr>\n",
       "  </thead>\n",
       "  <tbody>\n",
       "    <tr>\n",
       "      <th>Switzerland</th>\n",
       "      <td>1.0</td>\n",
       "      <td>2.0</td>\n",
       "      <td>4.0</td>\n",
       "      <td>5.0</td>\n",
       "      <td>6.0</td>\n",
       "    </tr>\n",
       "    <tr>\n",
       "      <th>Iceland</th>\n",
       "      <td>2.0</td>\n",
       "      <td>3.0</td>\n",
       "      <td>3.0</td>\n",
       "      <td>4.0</td>\n",
       "      <td>4.0</td>\n",
       "    </tr>\n",
       "    <tr>\n",
       "      <th>Denmark</th>\n",
       "      <td>3.0</td>\n",
       "      <td>1.0</td>\n",
       "      <td>2.0</td>\n",
       "      <td>3.0</td>\n",
       "      <td>2.0</td>\n",
       "    </tr>\n",
       "    <tr>\n",
       "      <th>Norway</th>\n",
       "      <td>4.0</td>\n",
       "      <td>4.0</td>\n",
       "      <td>1.0</td>\n",
       "      <td>2.0</td>\n",
       "      <td>3.0</td>\n",
       "    </tr>\n",
       "    <tr>\n",
       "      <th>Canada</th>\n",
       "      <td>5.0</td>\n",
       "      <td>6.0</td>\n",
       "      <td>7.0</td>\n",
       "      <td>7.0</td>\n",
       "      <td>9.0</td>\n",
       "    </tr>\n",
       "    <tr>\n",
       "      <th>Finland</th>\n",
       "      <td>6.0</td>\n",
       "      <td>5.0</td>\n",
       "      <td>5.0</td>\n",
       "      <td>1.0</td>\n",
       "      <td>1.0</td>\n",
       "    </tr>\n",
       "    <tr>\n",
       "      <th>Netherlands</th>\n",
       "      <td>7.0</td>\n",
       "      <td>7.0</td>\n",
       "      <td>6.0</td>\n",
       "      <td>6.0</td>\n",
       "      <td>5.0</td>\n",
       "    </tr>\n",
       "    <tr>\n",
       "      <th>Sweden</th>\n",
       "      <td>8.0</td>\n",
       "      <td>10.0</td>\n",
       "      <td>9.0</td>\n",
       "      <td>9.0</td>\n",
       "      <td>7.0</td>\n",
       "    </tr>\n",
       "    <tr>\n",
       "      <th>New Zealand</th>\n",
       "      <td>9.0</td>\n",
       "      <td>8.0</td>\n",
       "      <td>8.0</td>\n",
       "      <td>8.0</td>\n",
       "      <td>8.0</td>\n",
       "    </tr>\n",
       "    <tr>\n",
       "      <th>Australia</th>\n",
       "      <td>10.0</td>\n",
       "      <td>9.0</td>\n",
       "      <td>10.0</td>\n",
       "      <td>10.0</td>\n",
       "      <td>NaN</td>\n",
       "    </tr>\n",
       "    <tr>\n",
       "      <th>Austria</th>\n",
       "      <td>NaN</td>\n",
       "      <td>NaN</td>\n",
       "      <td>NaN</td>\n",
       "      <td>NaN</td>\n",
       "      <td>10.0</td>\n",
       "    </tr>\n",
       "  </tbody>\n",
       "</table>\n",
       "</div>"
      ],
      "text/plain": [
       "             2015  2016  2017  2018  2019\n",
       "Switzerland   1.0   2.0   4.0   5.0   6.0\n",
       "Iceland       2.0   3.0   3.0   4.0   4.0\n",
       "Denmark       3.0   1.0   2.0   3.0   2.0\n",
       "Norway        4.0   4.0   1.0   2.0   3.0\n",
       "Canada        5.0   6.0   7.0   7.0   9.0\n",
       "Finland       6.0   5.0   5.0   1.0   1.0\n",
       "Netherlands   7.0   7.0   6.0   6.0   5.0\n",
       "Sweden        8.0  10.0   9.0   9.0   7.0\n",
       "New Zealand   9.0   8.0   8.0   8.0   8.0\n",
       "Australia    10.0   9.0  10.0  10.0   NaN\n",
       "Austria       NaN   NaN   NaN   NaN  10.0"
      ]
     },
     "execution_count": 105,
     "metadata": {},
     "output_type": "execute_result"
    }
   ],
   "source": [
    "ranks = [\n",
    "    dfs[\"2015\"][\"Happiness Rank\"].nsmallest(10),\n",
    "    dfs[\"2016\"][\"Happiness Rank\"].nsmallest(10),\n",
    "    dfs[\"2017\"][\"Happiness Rank\"].nsmallest(10),\n",
    "    dfs[\"2018\"][\"Happiness Rank\"].nsmallest(10),\n",
    "    dfs[\"2019\"][\"Happiness Rank\"].nsmallest(10),\n",
    "]\n",
    "df_ranks = pd.concat(ranks, axis=1)\n",
    "df_ranks.columns = [\"2015\", \"2016\", \"2017\", \"2018\", \"2019\"]\n",
    "df_ranks"
   ]
  },
  {
   "cell_type": "markdown",
   "metadata": {},
   "source": [
    "Resposta: \n",
    "\n",
    "Observando a tabela acima, percebe-se que uma das principais alterações durante os anos observados foi a saída da Austrália e a entrada da Áustria no top 10 do ranking.\n",
    "Abaixo, um gráfico ilustrativo das alterações ano a ano para cada país."
   ]
  },
  {
   "cell_type": "code",
   "execution_count": 106,
   "metadata": {},
   "outputs": [
    {
     "data": {
      "text/plain": [
       "<AxesSubplot:xlabel='País', ylabel='Ranking'>"
      ]
     },
     "execution_count": 106,
     "metadata": {},
     "output_type": "execute_result"
    },
    {
     "data": {
      "image/png": "[encoded data removed]",
      "text/plain": [
       "<Figure size 1080x720 with 1 Axes>"
      ]
     },
     "metadata": {
      "needs_background": "light"
     },
     "output_type": "display_data"
    }
   ],
   "source": [
    "df_ranks.plot(kind=\"bar\", figsize=(15, 10), ylabel=\"Ranking\", xlabel=\"País\")"
   ]
  },
  {
   "cell_type": "markdown",
   "metadata": {},
   "source": [
    "2. Considerando a média de todas as variáveis, quais foram as 3 variáveis que mais mudaram ano a ano (desconsiderando score e ranking)?"
   ]
  },
  {
   "cell_type": "code",
   "execution_count": 107,
   "metadata": {},
   "outputs": [
    {
     "data": {
      "text/html": [
       "<div>\n",
       "<style scoped>\n",
       "    .dataframe tbody tr th:only-of-type {\n",
       "        vertical-align: middle;\n",
       "    }\n",
       "\n",
       "    .dataframe tbody tr th {\n",
       "        vertical-align: top;\n",
       "    }\n",
       "\n",
       "    .dataframe thead th {\n",
       "        text-align: right;\n",
       "    }\n",
       "</style>\n",
       "<table border=\"1\" class=\"dataframe\">\n",
       "  <thead>\n",
       "    <tr style=\"text-align: right;\">\n",
       "      <th></th>\n",
       "      <th>count</th>\n",
       "      <th>mean</th>\n",
       "      <th>std</th>\n",
       "      <th>min</th>\n",
       "      <th>25%</th>\n",
       "      <th>50%</th>\n",
       "      <th>75%</th>\n",
       "      <th>max</th>\n",
       "      <th>delta</th>\n",
       "    </tr>\n",
       "  </thead>\n",
       "  <tbody>\n",
       "    <tr>\n",
       "      <th>Family</th>\n",
       "      <td>5.0</td>\n",
       "      <td>1.079123</td>\n",
       "      <td>0.184476</td>\n",
       "      <td>0.793621</td>\n",
       "      <td>0.991046</td>\n",
       "      <td>1.188898</td>\n",
       "      <td>1.208814</td>\n",
       "      <td>1.213237</td>\n",
       "      <td>0.419616</td>\n",
       "    </tr>\n",
       "    <tr>\n",
       "      <th>Health (Life Expectancy)</th>\n",
       "      <td>5.0</td>\n",
       "      <td>0.612362</td>\n",
       "      <td>0.070726</td>\n",
       "      <td>0.551341</td>\n",
       "      <td>0.557619</td>\n",
       "      <td>0.597346</td>\n",
       "      <td>0.630259</td>\n",
       "      <td>0.725244</td>\n",
       "      <td>0.173903</td>\n",
       "    </tr>\n",
       "    <tr>\n",
       "      <th>Economy (GDP per Capita)</th>\n",
       "      <td>5.0</td>\n",
       "      <td>0.916266</td>\n",
       "      <td>0.054217</td>\n",
       "      <td>0.846137</td>\n",
       "      <td>0.891449</td>\n",
       "      <td>0.905147</td>\n",
       "      <td>0.953880</td>\n",
       "      <td>0.984718</td>\n",
       "      <td>0.138581</td>\n",
       "    </tr>\n",
       "  </tbody>\n",
       "</table>\n",
       "</div>"
      ],
      "text/plain": [
       "                          count      mean       std       min       25%  \\\n",
       "Family                      5.0  1.079123  0.184476  0.793621  0.991046   \n",
       "Health (Life Expectancy)    5.0  0.612362  0.070726  0.551341  0.557619   \n",
       "Economy (GDP per Capita)    5.0  0.916266  0.054217  0.846137  0.891449   \n",
       "\n",
       "                               50%       75%       max     delta  \n",
       "Family                    1.188898  1.208814  1.213237  0.419616  \n",
       "Health (Life Expectancy)  0.597346  0.630259  0.725244  0.173903  \n",
       "Economy (GDP per Capita)  0.905147  0.953880  0.984718  0.138581  "
      ]
     },
     "execution_count": 107,
     "metadata": {},
     "output_type": "execute_result"
    }
   ],
   "source": [
    "# Primeiramente, criamos uma lista com a média das variáveis para cada ano \n",
    "# e concatenamos todas elas em um único DataFrame\n",
    "means = []\n",
    "for year in dfs:\n",
    "    means.append(dfs[year].describe().loc[\"mean\"])\n",
    "df_means = pd.concat(means, axis=1)\n",
    "df_means.columns = [\"2015\", \"2016\", \"2017\", \"2018\", \"2019\"]\n",
    "\n",
    "# Através do método .describe() conseguimos extrair os valores mínimo e máximo\n",
    "# para cada variável de interesse, obtendo o delta pela diferença destes.\n",
    "df_means_describe = df_means.T.describe().T\n",
    "df_means_describe[\"delta\"] = df_means_describe[\"max\"] - df_means_describe[\"min\"]\n",
    "\n",
    "# A nova coluna 'delta' foi ordenada a partir do método .sort_values e\n",
    "# as colunas 'Happiness Rank' e 'Happiness Score' foram desconsideradas \n",
    "# conforme pedido na pergunta. Por fim, selecionamos as 3 primeiras linhas.\n",
    "df_means_describe.sort_values(\"delta\", ascending=False, inplace=True)\n",
    "df_means_describe.drop([\"Happiness Rank\", \"Happiness Score\"], inplace=True)\n",
    "df_means_describe.iloc[:3]"
   ]
  },
  {
   "cell_type": "markdown",
   "metadata": {},
   "source": [
    "Resposta:\n",
    "\n",
    "As variáveis que tiveram maior variação absoluta entre os anos observados foram 'Family', 'Health (Life Expectancy)' e 'Economy (GDP per Capita)'.\n"
   ]
  },
  {
   "cell_type": "markdown",
   "metadata": {},
   "source": [
    "3. Quais foram os top 3 países que mais tiveram mudança positiva e negativa de GDP?\n"
   ]
  },
  {
   "cell_type": "code",
   "execution_count": 108,
   "metadata": {},
   "outputs": [
    {
     "name": "stdout",
     "output_type": "stream",
     "text": [
      "     Maiores variações positivas de GDP      \n"
     ]
    },
    {
     "data": {
      "text/html": [
       "<div>\n",
       "<style scoped>\n",
       "    .dataframe tbody tr th:only-of-type {\n",
       "        vertical-align: middle;\n",
       "    }\n",
       "\n",
       "    .dataframe tbody tr th {\n",
       "        vertical-align: top;\n",
       "    }\n",
       "\n",
       "    .dataframe thead th {\n",
       "        text-align: right;\n",
       "    }\n",
       "</style>\n",
       "<table border=\"1\" class=\"dataframe\">\n",
       "  <thead>\n",
       "    <tr style=\"text-align: right;\">\n",
       "      <th></th>\n",
       "      <th>Country</th>\n",
       "      <th>Year</th>\n",
       "      <th>Delta GDP (%)</th>\n",
       "    </tr>\n",
       "  </thead>\n",
       "  <tbody>\n",
       "    <tr>\n",
       "      <th>130</th>\n",
       "      <td>Malawi</td>\n",
       "      <td>2015 a 2016 (%)</td>\n",
       "      <td>442.955112</td>\n",
       "    </tr>\n",
       "    <tr>\n",
       "      <th>156</th>\n",
       "      <td>Burundi</td>\n",
       "      <td>2015 a 2016 (%)</td>\n",
       "      <td>346.470588</td>\n",
       "    </tr>\n",
       "    <tr>\n",
       "      <th>294</th>\n",
       "      <td>Malawi</td>\n",
       "      <td>2016 a 2017 (%)</td>\n",
       "      <td>168.046892</td>\n",
       "    </tr>\n",
       "  </tbody>\n",
       "</table>\n",
       "</div>"
      ],
      "text/plain": [
       "     Country             Year  Delta GDP (%)\n",
       "130   Malawi  2015 a 2016 (%)     442.955112\n",
       "156  Burundi  2015 a 2016 (%)     346.470588\n",
       "294   Malawi  2016 a 2017 (%)     168.046892"
      ]
     },
     "metadata": {},
     "output_type": "display_data"
    },
    {
     "name": "stdout",
     "output_type": "stream",
     "text": [
      "\n",
      "     Maiores variações negativas de GDP      \n"
     ]
    },
    {
     "data": {
      "text/html": [
       "<div>\n",
       "<style scoped>\n",
       "    .dataframe tbody tr th:only-of-type {\n",
       "        vertical-align: middle;\n",
       "    }\n",
       "\n",
       "    .dataframe tbody tr th {\n",
       "        vertical-align: top;\n",
       "    }\n",
       "\n",
       "    .dataframe thead th {\n",
       "        text-align: right;\n",
       "    }\n",
       "</style>\n",
       "<table border=\"1\" class=\"dataframe\">\n",
       "  <thead>\n",
       "    <tr style=\"text-align: right;\">\n",
       "      <th></th>\n",
       "      <th>Country</th>\n",
       "      <th>Year</th>\n",
       "      <th>Delta GDP (%)</th>\n",
       "    </tr>\n",
       "  </thead>\n",
       "  <tbody>\n",
       "    <tr>\n",
       "      <th>648</th>\n",
       "      <td>Burundi</td>\n",
       "      <td>2018 a 2019 (%)</td>\n",
       "      <td>-49.450549</td>\n",
       "    </tr>\n",
       "    <tr>\n",
       "      <th>443</th>\n",
       "      <td>Liberia</td>\n",
       "      <td>2017 a 2018 (%)</td>\n",
       "      <td>-36.156876</td>\n",
       "    </tr>\n",
       "    <tr>\n",
       "      <th>627</th>\n",
       "      <td>Yemen</td>\n",
       "      <td>2018 a 2019 (%)</td>\n",
       "      <td>-35.067873</td>\n",
       "    </tr>\n",
       "  </tbody>\n",
       "</table>\n",
       "</div>"
      ],
      "text/plain": [
       "     Country             Year  Delta GDP (%)\n",
       "648  Burundi  2018 a 2019 (%)     -49.450549\n",
       "443  Liberia  2017 a 2018 (%)     -36.156876\n",
       "627    Yemen  2018 a 2019 (%)     -35.067873"
      ]
     },
     "metadata": {},
     "output_type": "display_data"
    }
   ],
   "source": [
    "# Inicialmente, selecionamos a coluna de 'Economy (GDP per Capita)' de cada\n",
    "# ano e concatemos num único DF.\n",
    "gdps = [\n",
    "    dfs[\"2015\"][\"Economy (GDP per Capita)\"],\n",
    "    dfs[\"2016\"][\"Economy (GDP per Capita)\"],\n",
    "    dfs[\"2017\"][\"Economy (GDP per Capita)\"],\n",
    "    dfs[\"2018\"][\"Economy (GDP per Capita)\"],\n",
    "    dfs[\"2019\"][\"Economy (GDP per Capita)\"],\n",
    "]\n",
    "df_gdps = pd.concat(gdps, axis=1)\n",
    "df_gdps.columns = [\"2015\", \"2016\", \"2017\", \"2018\", \"2019\"]\n",
    "\n",
    "#Para auxiliar na análise, os valores iguais a 0 foram convertidos em NaN\n",
    "df_gdps.replace(0, np.nan, inplace=True)\n",
    "\n",
    "# Criamos 4 novas colunas com a porcentagem de mudança do GDP entre os anos\n",
    "df_gdps[\"2015 a 2016 (%)\"] = (df_gdps[\"2016\"]/df_gdps[\"2015\"] - 1)*100\n",
    "df_gdps[\"2016 a 2017 (%)\"] = (df_gdps[\"2017\"]/df_gdps[\"2016\"] - 1)*100\n",
    "df_gdps[\"2017 a 2018 (%)\"] = (df_gdps[\"2018\"]/df_gdps[\"2017\"] - 1)*100\n",
    "df_gdps[\"2018 a 2019 (%)\"] = (df_gdps[\"2019\"]/df_gdps[\"2018\"] - 1)*100\n",
    "df_gdps = df_gdps.reset_index()\n",
    "\n",
    "# Reorganizamos o DF utilizando o nome dos países como índice (pode haver \n",
    "# mais de uma aparição) com os correspondentes valores de variação do GDP\n",
    "df_gdps = pd.melt(df_gdps,  id_vars=['index'], value_vars=['2015 a 2016 (%)', '2016 a 2017 (%)','2017 a 2018 (%)','2018 a 2019 (%)'])\n",
    "df_gdps.columns = [\"Country\", \"Year\", \"Delta GDP (%)\"]\n",
    "print(f\"{'Maiores variações positivas de GDP':^45}\")\n",
    "display(df_gdps.nlargest(3, 'Delta GDP (%)'))\n",
    "print(f\"\\n{'Maiores variações negativas de GDP':^45}\")\n",
    "display(df_gdps.nsmallest(3, 'Delta GDP (%)'))"
   ]
  },
  {
   "cell_type": "markdown",
   "metadata": {},
   "source": [
    "Resposta:\n",
    "\n",
    "Os países que tiveram o maior crescimento da GDP no período observado foram Malawi (2015-2016), Burundi (2015-2016) e Malawi (2016-2017). \n",
    "\n",
    "Já os países que tiveram maior queda no GDP foram Burundi (2018-2019), Libéria (2017-2018) e Iêmen (2018-2019)."
   ]
  },
  {
   "cell_type": "markdown",
   "metadata": {},
   "source": [
    "4. Qual foi o país que mais subiu no ranking no período inteiro analisado?"
   ]
  },
  {
   "cell_type": "code",
   "execution_count": 109,
   "metadata": {},
   "outputs": [
    {
     "data": {
      "text/html": [
       "<div>\n",
       "<style scoped>\n",
       "    .dataframe tbody tr th:only-of-type {\n",
       "        vertical-align: middle;\n",
       "    }\n",
       "\n",
       "    .dataframe tbody tr th {\n",
       "        vertical-align: top;\n",
       "    }\n",
       "\n",
       "    .dataframe thead th {\n",
       "        text-align: right;\n",
       "    }\n",
       "</style>\n",
       "<table border=\"1\" class=\"dataframe\">\n",
       "  <thead>\n",
       "    <tr style=\"text-align: right;\">\n",
       "      <th></th>\n",
       "      <th>2015</th>\n",
       "      <th>2016</th>\n",
       "      <th>2017</th>\n",
       "      <th>2018</th>\n",
       "      <th>2019</th>\n",
       "      <th>Delta</th>\n",
       "    </tr>\n",
       "  </thead>\n",
       "  <tbody>\n",
       "    <tr>\n",
       "      <th>Benin</th>\n",
       "      <td>155.0</td>\n",
       "      <td>153.0</td>\n",
       "      <td>143.0</td>\n",
       "      <td>136.0</td>\n",
       "      <td>102.0</td>\n",
       "      <td>53.0</td>\n",
       "    </tr>\n",
       "    <tr>\n",
       "      <th>Ivory Coast</th>\n",
       "      <td>151.0</td>\n",
       "      <td>139.0</td>\n",
       "      <td>128.0</td>\n",
       "      <td>107.0</td>\n",
       "      <td>99.0</td>\n",
       "      <td>52.0</td>\n",
       "    </tr>\n",
       "    <tr>\n",
       "      <th>Honduras</th>\n",
       "      <td>105.0</td>\n",
       "      <td>104.0</td>\n",
       "      <td>91.0</td>\n",
       "      <td>72.0</td>\n",
       "      <td>59.0</td>\n",
       "      <td>46.0</td>\n",
       "    </tr>\n",
       "    <tr>\n",
       "      <th>Hungary</th>\n",
       "      <td>104.0</td>\n",
       "      <td>91.0</td>\n",
       "      <td>75.0</td>\n",
       "      <td>69.0</td>\n",
       "      <td>62.0</td>\n",
       "      <td>42.0</td>\n",
       "    </tr>\n",
       "    <tr>\n",
       "      <th>Gabon</th>\n",
       "      <td>143.0</td>\n",
       "      <td>134.0</td>\n",
       "      <td>118.0</td>\n",
       "      <td>103.0</td>\n",
       "      <td>104.0</td>\n",
       "      <td>39.0</td>\n",
       "    </tr>\n",
       "  </tbody>\n",
       "</table>\n",
       "</div>"
      ],
      "text/plain": [
       "              2015   2016   2017   2018   2019  Delta\n",
       "Benin        155.0  153.0  143.0  136.0  102.0   53.0\n",
       "Ivory Coast  151.0  139.0  128.0  107.0   99.0   52.0\n",
       "Honduras     105.0  104.0   91.0   72.0   59.0   46.0\n",
       "Hungary      104.0   91.0   75.0   69.0   62.0   42.0\n",
       "Gabon        143.0  134.0  118.0  103.0  104.0   39.0"
      ]
     },
     "execution_count": 109,
     "metadata": {},
     "output_type": "execute_result"
    }
   ],
   "source": [
    "# Inicialmente, selecionamos a coluna de 'Happiness Rank' de cada ano e\n",
    "# concatemos em um único DF.\n",
    "rankings = [\n",
    "    dfs[\"2015\"][\"Happiness Rank\"],\n",
    "    dfs[\"2016\"][\"Happiness Rank\"],\n",
    "    dfs[\"2017\"][\"Happiness Rank\"],\n",
    "    dfs[\"2018\"][\"Happiness Rank\"],\n",
    "    dfs[\"2019\"][\"Happiness Rank\"],\n",
    "]\n",
    "df_ranks = pd.concat(rankings, axis=1)\n",
    "df_ranks.columns = [\"2015\", \"2016\", \"2017\", \"2018\", \"2019\"]\n",
    "\n",
    "# Foram removidas quaisquer linhas que apresentassem NaN, ou seja, países\n",
    "# que não tiveram o índice calculado em todos os anos observados. \n",
    "df_ranks.dropna(inplace=True)\n",
    "\n",
    "# Criamos uma nova coluna com a variação no ranking entre 2015 e 2019 \n",
    "# para cada país, ordenamos os valores e visualizamos os 5 primeiros.\n",
    "df_ranks[\"Delta\"] = df_ranks[\"2015\"] - df_ranks[\"2019\"]\n",
    "df_ranks.sort_values(by=\"Delta\", ascending=False, inplace=True)\n",
    "df_ranks.head()"
   ]
  },
  {
   "cell_type": "markdown",
   "metadata": {},
   "source": [
    "Resposta:\n",
    "\n",
    "O país que mais subiu no ranking entre 2015 e 2019 foi Benin."
   ]
  },
  {
   "cell_type": "markdown",
   "metadata": {},
   "source": [
    "5. Houve países que saíram ou entraram no index?\n"
   ]
  },
  {
   "cell_type": "code",
   "execution_count": 117,
   "metadata": {},
   "outputs": [
    {
     "name": "stdout",
     "output_type": "stream",
     "text": [
      "18 countries entered and left the rankings\n"
     ]
    },
    {
     "data": {
      "text/html": [
       "<div>\n",
       "<style scoped>\n",
       "    .dataframe tbody tr th:only-of-type {\n",
       "        vertical-align: middle;\n",
       "    }\n",
       "\n",
       "    .dataframe tbody tr th {\n",
       "        vertical-align: top;\n",
       "    }\n",
       "\n",
       "    .dataframe thead th {\n",
       "        text-align: right;\n",
       "    }\n",
       "</style>\n",
       "<table border=\"1\" class=\"dataframe\">\n",
       "  <thead>\n",
       "    <tr style=\"text-align: right;\">\n",
       "      <th></th>\n",
       "      <th>2015</th>\n",
       "      <th>2016</th>\n",
       "      <th>2017</th>\n",
       "      <th>2018</th>\n",
       "      <th>2019</th>\n",
       "    </tr>\n",
       "  </thead>\n",
       "  <tbody>\n",
       "    <tr>\n",
       "      <th>Angola</th>\n",
       "      <td>137.0</td>\n",
       "      <td>141.0</td>\n",
       "      <td>140.0</td>\n",
       "      <td>142.0</td>\n",
       "      <td>NaN</td>\n",
       "    </tr>\n",
       "    <tr>\n",
       "      <th>Belize</th>\n",
       "      <td>NaN</td>\n",
       "      <td>52.0</td>\n",
       "      <td>50.0</td>\n",
       "      <td>49.0</td>\n",
       "      <td>NaN</td>\n",
       "    </tr>\n",
       "    <tr>\n",
       "      <th>Central African Republic</th>\n",
       "      <td>148.0</td>\n",
       "      <td>NaN</td>\n",
       "      <td>155.0</td>\n",
       "      <td>155.0</td>\n",
       "      <td>155.0</td>\n",
       "    </tr>\n",
       "    <tr>\n",
       "      <th>Comoros</th>\n",
       "      <td>140.0</td>\n",
       "      <td>138.0</td>\n",
       "      <td>NaN</td>\n",
       "      <td>NaN</td>\n",
       "      <td>142.0</td>\n",
       "    </tr>\n",
       "    <tr>\n",
       "      <th>Djibouti</th>\n",
       "      <td>126.0</td>\n",
       "      <td>NaN</td>\n",
       "      <td>NaN</td>\n",
       "      <td>NaN</td>\n",
       "      <td>NaN</td>\n",
       "    </tr>\n",
       "    <tr>\n",
       "      <th>Gambia</th>\n",
       "      <td>NaN</td>\n",
       "      <td>NaN</td>\n",
       "      <td>NaN</td>\n",
       "      <td>NaN</td>\n",
       "      <td>120.0</td>\n",
       "    </tr>\n",
       "    <tr>\n",
       "      <th>Laos</th>\n",
       "      <td>99.0</td>\n",
       "      <td>102.0</td>\n",
       "      <td>NaN</td>\n",
       "      <td>110.0</td>\n",
       "      <td>105.0</td>\n",
       "    </tr>\n",
       "    <tr>\n",
       "      <th>Lesotho</th>\n",
       "      <td>97.0</td>\n",
       "      <td>NaN</td>\n",
       "      <td>139.0</td>\n",
       "      <td>141.0</td>\n",
       "      <td>144.0</td>\n",
       "    </tr>\n",
       "    <tr>\n",
       "      <th>Mozambique</th>\n",
       "      <td>94.0</td>\n",
       "      <td>NaN</td>\n",
       "      <td>113.0</td>\n",
       "      <td>123.0</td>\n",
       "      <td>123.0</td>\n",
       "    </tr>\n",
       "    <tr>\n",
       "      <th>Namibia</th>\n",
       "      <td>NaN</td>\n",
       "      <td>113.0</td>\n",
       "      <td>111.0</td>\n",
       "      <td>119.0</td>\n",
       "      <td>113.0</td>\n",
       "    </tr>\n",
       "    <tr>\n",
       "      <th>Oman</th>\n",
       "      <td>22.0</td>\n",
       "      <td>NaN</td>\n",
       "      <td>NaN</td>\n",
       "      <td>NaN</td>\n",
       "      <td>NaN</td>\n",
       "    </tr>\n",
       "    <tr>\n",
       "      <th>Puerto Rico</th>\n",
       "      <td>NaN</td>\n",
       "      <td>15.0</td>\n",
       "      <td>NaN</td>\n",
       "      <td>NaN</td>\n",
       "      <td>NaN</td>\n",
       "    </tr>\n",
       "    <tr>\n",
       "      <th>Somalia</th>\n",
       "      <td>NaN</td>\n",
       "      <td>76.0</td>\n",
       "      <td>93.0</td>\n",
       "      <td>98.0</td>\n",
       "      <td>112.0</td>\n",
       "    </tr>\n",
       "    <tr>\n",
       "      <th>Somaliland Region</th>\n",
       "      <td>91.0</td>\n",
       "      <td>97.0</td>\n",
       "      <td>NaN</td>\n",
       "      <td>NaN</td>\n",
       "      <td>NaN</td>\n",
       "    </tr>\n",
       "    <tr>\n",
       "      <th>South Sudan</th>\n",
       "      <td>NaN</td>\n",
       "      <td>143.0</td>\n",
       "      <td>147.0</td>\n",
       "      <td>154.0</td>\n",
       "      <td>156.0</td>\n",
       "    </tr>\n",
       "    <tr>\n",
       "      <th>Sudan</th>\n",
       "      <td>118.0</td>\n",
       "      <td>133.0</td>\n",
       "      <td>130.0</td>\n",
       "      <td>137.0</td>\n",
       "      <td>NaN</td>\n",
       "    </tr>\n",
       "    <tr>\n",
       "      <th>Suriname</th>\n",
       "      <td>40.0</td>\n",
       "      <td>40.0</td>\n",
       "      <td>NaN</td>\n",
       "      <td>NaN</td>\n",
       "      <td>NaN</td>\n",
       "    </tr>\n",
       "    <tr>\n",
       "      <th>Swaziland</th>\n",
       "      <td>101.0</td>\n",
       "      <td>NaN</td>\n",
       "      <td>NaN</td>\n",
       "      <td>NaN</td>\n",
       "      <td>135.0</td>\n",
       "    </tr>\n",
       "  </tbody>\n",
       "</table>\n",
       "</div>"
      ],
      "text/plain": [
       "                           2015   2016   2017   2018   2019\n",
       "Angola                    137.0  141.0  140.0  142.0    NaN\n",
       "Belize                      NaN   52.0   50.0   49.0    NaN\n",
       "Central African Republic  148.0    NaN  155.0  155.0  155.0\n",
       "Comoros                   140.0  138.0    NaN    NaN  142.0\n",
       "Djibouti                  126.0    NaN    NaN    NaN    NaN\n",
       "Gambia                      NaN    NaN    NaN    NaN  120.0\n",
       "Laos                       99.0  102.0    NaN  110.0  105.0\n",
       "Lesotho                    97.0    NaN  139.0  141.0  144.0\n",
       "Mozambique                 94.0    NaN  113.0  123.0  123.0\n",
       "Namibia                     NaN  113.0  111.0  119.0  113.0\n",
       "Oman                       22.0    NaN    NaN    NaN    NaN\n",
       "Puerto Rico                 NaN   15.0    NaN    NaN    NaN\n",
       "Somalia                     NaN   76.0   93.0   98.0  112.0\n",
       "Somaliland Region          91.0   97.0    NaN    NaN    NaN\n",
       "South Sudan                 NaN  143.0  147.0  154.0  156.0\n",
       "Sudan                     118.0  133.0  130.0  137.0    NaN\n",
       "Suriname                   40.0   40.0    NaN    NaN    NaN\n",
       "Swaziland                 101.0    NaN    NaN    NaN  135.0"
      ]
     },
     "execution_count": 117,
     "metadata": {},
     "output_type": "execute_result"
    }
   ],
   "source": [
    "# Inicialmente, selecionamos a coluna de 'Happiness Rank' de cada ano \n",
    "# e concatemos em um único DF.\n",
    "rankings = [\n",
    "    dfs[\"2015\"][\"Happiness Rank\"],\n",
    "    dfs[\"2016\"][\"Happiness Rank\"],\n",
    "    dfs[\"2017\"][\"Happiness Rank\"],\n",
    "    dfs[\"2018\"][\"Happiness Rank\"],\n",
    "    dfs[\"2019\"][\"Happiness Rank\"],\n",
    "]\n",
    "df_ranks = pd.concat(rankings, axis=1)\n",
    "df_ranks.columns = [\"2015\", \"2016\", \"2017\", \"2018\", \"2019\"]\n",
    "\n",
    "# Selecionamos todas as linhas que tivessem pelo menos um valor NaN no DF. \n",
    "df_entraram_sairam = df_ranks[df_ranks.isna().any(axis=1)]\n",
    "df_entraram_sairam = df_entraram_sairam.sort_index()\n",
    "print(f\"{len(df_entraram_sairam)} countries entered and left the rankings\")\n",
    "df_entraram_sairam"
   ]
  },
  {
   "cell_type": "markdown",
   "metadata": {},
   "source": [
    "Resposta:\n",
    "\n",
    "No período analisado, 18 países entraram ou saíram do ranking."
   ]
  },
  {
   "cell_type": "markdown",
   "metadata": {},
   "source": [
    "6. Quais foram os 3 países que mais tiveram mudança (positiva e negativa) na expectativa de vida?\n"
   ]
  },
  {
   "cell_type": "code",
   "execution_count": 111,
   "metadata": {},
   "outputs": [
    {
     "name": "stdout",
     "output_type": "stream",
     "text": [
      "  Maiores variações positivas de Health   \n"
     ]
    },
    {
     "data": {
      "text/html": [
       "<div>\n",
       "<style scoped>\n",
       "    .dataframe tbody tr th:only-of-type {\n",
       "        vertical-align: middle;\n",
       "    }\n",
       "\n",
       "    .dataframe tbody tr th {\n",
       "        vertical-align: top;\n",
       "    }\n",
       "\n",
       "    .dataframe thead th {\n",
       "        text-align: right;\n",
       "    }\n",
       "</style>\n",
       "<table border=\"1\" class=\"dataframe\">\n",
       "  <thead>\n",
       "    <tr style=\"text-align: right;\">\n",
       "      <th></th>\n",
       "      <th>Country</th>\n",
       "      <th>Year</th>\n",
       "      <th>Health (%)</th>\n",
       "    </tr>\n",
       "  </thead>\n",
       "  <tbody>\n",
       "    <tr>\n",
       "      <th>639</th>\n",
       "      <td>Central African Republic</td>\n",
       "      <td>2018 a 2019 (%)</td>\n",
       "      <td>950.000000</td>\n",
       "    </tr>\n",
       "    <tr>\n",
       "      <th>127</th>\n",
       "      <td>Botswana</td>\n",
       "      <td>2015 a 2016 (%)</td>\n",
       "      <td>627.638191</td>\n",
       "    </tr>\n",
       "    <tr>\n",
       "      <th>464</th>\n",
       "      <td>Angola</td>\n",
       "      <td>2017 a 2018 (%)</td>\n",
       "      <td>439.416879</td>\n",
       "    </tr>\n",
       "  </tbody>\n",
       "</table>\n",
       "</div>"
      ],
      "text/plain": [
       "                      Country             Year  Health (%)\n",
       "639  Central African Republic  2018 a 2019 (%)  950.000000\n",
       "127                  Botswana  2015 a 2016 (%)  627.638191\n",
       "464                    Angola  2017 a 2018 (%)  439.416879"
      ]
     },
     "metadata": {},
     "output_type": "display_data"
    },
    {
     "name": "stdout",
     "output_type": "stream",
     "text": [
      "\n",
      "  Maiores variações negativas de Health   \n"
     ]
    },
    {
     "data": {
      "text/html": [
       "<div>\n",
       "<style scoped>\n",
       "    .dataframe tbody tr th:only-of-type {\n",
       "        vertical-align: middle;\n",
       "    }\n",
       "\n",
       "    .dataframe tbody tr th {\n",
       "        vertical-align: top;\n",
       "    }\n",
       "\n",
       "    .dataframe thead th {\n",
       "        text-align: right;\n",
       "    }\n",
       "</style>\n",
       "<table border=\"1\" class=\"dataframe\">\n",
       "  <thead>\n",
       "    <tr style=\"text-align: right;\">\n",
       "      <th></th>\n",
       "      <th>Country</th>\n",
       "      <th>Year</th>\n",
       "      <th>Health (%)</th>\n",
       "    </tr>\n",
       "  </thead>\n",
       "  <tbody>\n",
       "    <tr>\n",
       "      <th>148</th>\n",
       "      <td>Chad</td>\n",
       "      <td>2015 a 2016 (%)</td>\n",
       "      <td>-74.523651</td>\n",
       "    </tr>\n",
       "    <tr>\n",
       "      <th>150</th>\n",
       "      <td>Ivory Coast</td>\n",
       "      <td>2015 a 2016 (%)</td>\n",
       "      <td>-70.523543</td>\n",
       "    </tr>\n",
       "    <tr>\n",
       "      <th>136</th>\n",
       "      <td>Angola</td>\n",
       "      <td>2015 a 2016 (%)</td>\n",
       "      <td>-70.083318</td>\n",
       "    </tr>\n",
       "  </tbody>\n",
       "</table>\n",
       "</div>"
      ],
      "text/plain": [
       "         Country             Year  Health (%)\n",
       "148         Chad  2015 a 2016 (%)  -74.523651\n",
       "150  Ivory Coast  2015 a 2016 (%)  -70.523543\n",
       "136       Angola  2015 a 2016 (%)  -70.083318"
      ]
     },
     "metadata": {},
     "output_type": "display_data"
    }
   ],
   "source": [
    "# Inicialmente, selecionamos a coluna de 'Health (Life Expectancy)' de cada\n",
    "# ano e concatemos num único DF.\n",
    "healths = [\n",
    "    dfs[\"2015\"][\"Health (Life Expectancy)\"],\n",
    "    dfs[\"2016\"][\"Health (Life Expectancy)\"],\n",
    "    dfs[\"2017\"][\"Health (Life Expectancy)\"],\n",
    "    dfs[\"2018\"][\"Health (Life Expectancy)\"],\n",
    "    dfs[\"2019\"][\"Health (Life Expectancy)\"],\n",
    "]\n",
    "df_health = pd.concat(healths, axis=1)\n",
    "df_health.columns = [\"2015\", \"2016\", \"2017\", \"2018\", \"2019\"]\n",
    "\n",
    "#Para auxiliar na análise, os valores iguais a 0 foram convertidos em NaN\n",
    "df_health.replace(0, np.nan, inplace=True)\n",
    "\n",
    "# Criamos 4 novas colunas com a porcentagem de mudança de Health entre os anos\n",
    "df_health[\"2015 a 2016 (%)\"] = (df_health[\"2016\"]/df_health[\"2015\"] - 1)*100\n",
    "df_health[\"2016 a 2017 (%)\"] = (df_health[\"2017\"]/df_health[\"2016\"] - 1)*100\n",
    "df_health[\"2017 a 2018 (%)\"] = (df_health[\"2018\"]/df_health[\"2017\"] - 1)*100\n",
    "df_health[\"2018 a 2019 (%)\"] = (df_health[\"2019\"]/df_health[\"2018\"] - 1)*100\n",
    "df_health = df_health.reset_index()\n",
    "\n",
    "# Reorganizamos o DF utilizando o nome dos países como índice (pode haver \n",
    "# mais de uma aparição) com as correspondentes variações do valor Health\n",
    "df_health = pd.melt(df_health,  id_vars=['index'], value_vars=['2015 a 2016 (%)', '2016 a 2017 (%)','2017 a 2018 (%)','2018 a 2019 (%)'])\n",
    "df_health.columns = [\"Country\", \"Year\", \"Health (%)\"]\n",
    "print(f\"{'Maiores variações positivas de Health':^42}\")\n",
    "display(df_health.nlargest(3, 'Health (%)'))\n",
    "print(f\"\\n{'Maiores variações negativas de Health':^42}\")\n",
    "display(df_health.nsmallest(3, 'Health (%)'))"
   ]
  },
  {
   "cell_type": "markdown",
   "metadata": {},
   "source": [
    "Resposta:\n",
    "\n",
    "Os países que tiveram o maior variação positiva do índice Health no período observado foram República Centro-Africana (2018-2019), Botsuana (2015-2016) e Angola (2017-2018). \n",
    "\n",
    "Já os países que tiveram maior variação negativa no índice Health foram Chade (2015-2016), Costa do Marfim (2015-2016) e Angola (2015-2016)."
   ]
  },
  {
   "cell_type": "markdown",
   "metadata": {},
   "source": [
    "7. Cite mais 2 conclusões que julgar pertinente sobre o assunto."
   ]
  },
  {
   "cell_type": "markdown",
   "metadata": {},
   "source": [
    "Conclusão 1:\n",
    "\n",
    "Há uma forte correlação sugerida entre os índices Economia (GDP per Capita) e Saúde (Expectativa de Vida) (82%)."
   ]
  }
 ],
 "metadata": {
  "kernelspec": {
   "display_name": "Python 3.9.12 ('base')",
   "language": "python",
   "name": "python3"
  },
  "language_info": {
   "codemirror_mode": {
    "name": "ipython",
    "version": 3
   },
   "file_extension": ".py",
   "mimetype": "text/x-python",
   "name": "python",
   "nbconvert_exporter": "python",
   "pygments_lexer": "ipython3",
   "version": "3.9.12"
  },
  "orig_nbformat": 4,
  "vscode": {
   "interpreter": {
    "hash": "cea1ecbc9060237308d6f43d2a8f2f7ecb9842b1b44e6cce898a5c7b51f4cadd"
   }
  }
 },
 "nbformat": 4,
 "nbformat_minor": 2
}
